{
 "cells": [
  {
   "cell_type": "markdown",
   "metadata": {},
   "source": [
    "---\n",
    "\n",
    "## **Projet 3 : Intégration du modèle fine-tuné sur MLflow**  \n",
    "\n",
    "### 🎯 **Objectif**  \n",
    "L’objectif de ce projet est d’**enregistrer et suivre le modèle fine-tuné** **LLAMA 3** sur **MLflow**, un outil de gestion des expériences de machine learning.  \n",
    "\n",
    "Nous allons :\n",
    "\n",
    "✅ **Convertir le modèle fine-tuné en float16** pour réduire l’espace mémoire  \n",
    "✅ **Sauvegarder le modèle sur le serveur MLflow** [`INRAE MLflow`](https://inrae-mlflow-server-6c1614130433.herokuapp.com/)  \n",
    "✅ **Suivre et comparer les performances du modèle** via MLflow  \n",
    "✅ **Charger et utiliser le modèle directement depuis MLflow**  \n"
   ]
  },
  {
   "cell_type": "code",
   "execution_count": null,
   "metadata": {
    "vscode": {
     "languageId": "plaintext"
    }
   },
   "outputs": [],
   "source": []
  },
  {
   "cell_type": "code",
   "execution_count": null,
   "metadata": {
    "vscode": {
     "languageId": "plaintext"
    }
   },
   "outputs": [],
   "source": []
  },
  {
   "cell_type": "code",
   "execution_count": null,
   "metadata": {
    "vscode": {
     "languageId": "plaintext"
    }
   },
   "outputs": [],
   "source": []
  }
 ],
 "metadata": {
  "language_info": {
   "name": "python"
  }
 },
 "nbformat": 4,
 "nbformat_minor": 2
}

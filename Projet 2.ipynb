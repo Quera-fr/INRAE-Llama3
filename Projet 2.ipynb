{
 "cells": [
  {
   "cell_type": "markdown",
   "metadata": {},
   "source": [
    "## **Projet 2 : Intégration de ChromaDB dans Open-WebUI**  \n",
    "\n",
    "### 🎯 **Objectif**  \n",
    "L’objectif de cet exercice est d’**intégrer ChromaDB** dans Open-WebUI afin d’ajouter une fonctionnalité de **RAG (Retrieval-Augmented Generation)**. Cela permettra à l’IA d’enrichir ses réponses avec des informations stockées dans une **base de connaissances vectorielle**.  \n",
    "\n",
    "Vous devrez :  \n",
    "✅ **Installer et configurer ChromaDB**  \n",
    "✅ **Créer et alimenter une base de connaissances avec plusieurs documents**  \n",
    "✅ **Interfacer ChromaDB avec Open-WebUI** pour enrichir les requêtes utilisateur  \n",
    "✅ **Modifier la fonction `inlet` du filtre** pour interroger ChromaDB en fonction des requêtes  \n",
    "✅ **Tester l’intégration en posant une question à Open-WebUI et analyser la réponse**  "
   ]
  },
  {
   "cell_type": "markdown",
   "metadata": {},
   "source": []
  },
  {
   "cell_type": "code",
   "execution_count": null,
   "metadata": {},
   "outputs": [],
   "source": []
  },
  {
   "cell_type": "code",
   "execution_count": null,
   "metadata": {},
   "outputs": [],
   "source": []
  },
  {
   "cell_type": "code",
   "execution_count": null,
   "metadata": {},
   "outputs": [],
   "source": []
  },
  {
   "cell_type": "code",
   "execution_count": null,
   "metadata": {},
   "outputs": [],
   "source": []
  },
  {
   "cell_type": "code",
   "execution_count": null,
   "metadata": {},
   "outputs": [],
   "source": []
  },
  {
   "cell_type": "code",
   "execution_count": null,
   "metadata": {},
   "outputs": [],
   "source": []
  },
  {
   "cell_type": "code",
   "execution_count": null,
   "metadata": {},
   "outputs": [],
   "source": []
  },
  {
   "cell_type": "code",
   "execution_count": null,
   "metadata": {},
   "outputs": [],
   "source": []
  },
  {
   "cell_type": "code",
   "execution_count": null,
   "metadata": {},
   "outputs": [],
   "source": []
  },
  {
   "cell_type": "markdown",
   "metadata": {},
   "source": [
    "# Bonus - RAG à l'aide du Cosinus Symilarity de SKlearn"
   ]
  },
  {
   "cell_type": "code",
   "execution_count": null,
   "metadata": {},
   "outputs": [],
   "source": [
    "!curl -o fonctions.py https://raw.githubusercontent.com/Quera-fr/Base-de-Donnee/refs/heads/main/functions.py"
   ]
  },
  {
   "cell_type": "code",
   "execution_count": null,
   "metadata": {},
   "outputs": [],
   "source": [
    "# Importer la classe ou fonction\n",
    "from fonctions import DataBaseV2, db\n",
    "import spacy\n",
    "\n",
    "\n",
    "# Charger le modèle spaCy (français)\n",
    "nlp = spacy.load(\"fr_core_news_md\")\n",
    "\n",
    "\n",
    "# Liste des documents\n",
    "docs = [\n",
    "    \"\"\"Vous êtes un expert en gastronomie, passionné par la richesse culinaire du monde entier. Vous maîtrisez l'histoire des plats, les techniques de cuisine, les accords mets et vins, ainsi que les spécificités des terroirs. Vous êtes capable d'expliquer l'importance de la cuisine dans la culture d'un pays et de proposer des conseils pour découvrir de nouvelles saveurs.\"\"\",\n",
    "\n",
    "    \"\"\"Vous êtes un scientifique curieux et engagé dans la découverte du monde. Vous comprenez les fondements des grandes révolutions scientifiques et technologiques et savez expliquer des concepts complexes de manière accessible. Vous vous intéressez à l'intelligence artificielle, à la biotechnologie et à l'exploration spatiale, tout en mettant en avant l'importance de la recherche et du questionnement permanent.\"\"\",\n",
    "\n",
    "    \"\"\"Vous êtes un passionné de culture, conscient de son rôle fondamental dans la société. Vous explorez les différentes formes d'expression artistique, de la peinture à la littérature, en passant par le cinéma et la musique. Vous valorisez le métissage culturel et comprenez l'importance de préserver et célébrer le patrimoine mondial.\"\"\",\n",
    "\n",
    "    \"\"\"Vous êtes un analyste du sport et de ses enjeux. Vous comprenez les règles, les stratégies et l'impact du sport sur la société. Vous mettez en avant les valeurs qu'il porte, comme la discipline, le respect et l'esprit d'équipe. Vous pouvez commenter l'actualité sportive, analyser des performances et expliquer pourquoi le sport est un puissant vecteur d'union et de motivation.\"\"\",\n",
    "\n",
    "    \"\"\"Vous êtes un expert en échecs, passionné par la stratégie et la logique. Vous maîtrisez les ouvertures, les tactiques et les finales. Vous savez expliquer les principes fondamentaux du jeu et analyser des parties. Vous vous intéressez également à l'impact de l'intelligence artificielle sur les échecs et partagez des conseils pour progresser et affiner sa pensée stratégique.\"\"\",\n",
    "]\n",
    "\n",
    "\n",
    "\n",
    "# Connexion à la base de données\n",
    "data = DataBaseV2('documents')\n",
    "\n",
    "\n",
    "\n",
    "# Création de la tables documents\n",
    "data.create_table('documents',\n",
    "                  id=db.Integer,\n",
    "                  content=db.Text,      # Texte\n",
    "                  embedding=db.BLOB     # Texte sous forme d'embedding\n",
    "                  )\n",
    "\n",
    "\n",
    "\n",
    "\n",
    "# Ajout dans la base de données\n",
    "for n in range(len(docs)):\n",
    "    data.insert_row('documents',\n",
    "                id=n,\n",
    "                content=docs[n],\n",
    "                embedding=nlp(docs[n]).vector) # Vectorisation\n",
    "    \n",
    "\n",
    "print(\"Les documents et leurs embeddings ont été ajoutés à la base de données SQLite.\")"
   ]
  },
  {
   "cell_type": "code",
   "execution_count": null,
   "metadata": {},
   "outputs": [],
   "source": [
    "import numpy as np\n",
    "from sklearn.metrics.pairwise import cosine_similarity\n",
    "\n",
    "\n",
    "\n",
    "prompt = \"J'aime le sport, le football, je suis passionné\"\n",
    "\n",
    "\n",
    "# Lecture de la base de données\n",
    "data = DataBaseV2(\"documents\")\n",
    "\n",
    "\n",
    "# Récupération des embeddings\n",
    "df = data.dataframe(\"documents\")\n",
    "embeding = df.embedding.apply(lambda blob: np.frombuffer(blob, dtype=np.float32))\n",
    "\n",
    "\n",
    "\n",
    "# Cosinus similarité\n",
    "retreval = cosine_similarity(nlp(prompt).vector.reshape(1, -1), np.array([v.reshape(1, -1)[0] for v in embeding])).argmax()\n",
    "\n",
    "\n",
    "\n",
    "# Document sélectionnée\n",
    "print(df.content.iloc[retreval])\n",
    "\n"
   ]
  }
 ],
 "metadata": {
  "kernelspec": {
   "display_name": "Python 3",
   "language": "python",
   "name": "python3"
  },
  "language_info": {
   "codemirror_mode": {
    "name": "ipython",
    "version": 3
   },
   "file_extension": ".py",
   "mimetype": "text/x-python",
   "name": "python",
   "nbconvert_exporter": "python",
   "pygments_lexer": "ipython3",
   "version": "3.11.8"
  }
 },
 "nbformat": 4,
 "nbformat_minor": 2
}

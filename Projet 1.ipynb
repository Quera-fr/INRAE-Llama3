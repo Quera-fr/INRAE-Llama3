{
 "cells": [
  {
   "cell_type": "markdown",
   "metadata": {},
   "source": [
    "## **Projet 1 : Fine-tuning d’un Modèle LLAMA 3**  \n",
    "\n",
    "### 🎯 **Objectif**  \n",
    "L’objectif de cet exercice est de **reprendre toutes les étapes** du notebook pour fine-tuner un modèle **LLAMA 3**, afin qu’il puisse répondre à la question :  \n",
    "**\"Quelles sont les champs d'activité de l'INRAE ?\"**  \n",
    "\n",
    "Vous devrez :   \n",
    "✅ **Télécharger et préparer le modèle LLAMA 3**  \n",
    "✅ **Créer et pré-traiter un dataset spécifique**  \n",
    "✅ **Effectuer le fine-tuning avec LoRA**  \n",
    "✅ **Sauvegarder le modèle entraîné**  \n",
    "✅ **Convertir le modèle en format GGUF pour Ollama**  \n",
    "✅ **Tester le modèle en lui posant la question cible**  "
   ]
  },
  {
   "cell_type": "code",
   "execution_count": null,
   "metadata": {
    "vscode": {
     "languageId": "plaintext"
    }
   },
   "outputs": [],
   "source": [
    "# Import du modèle depuis hugging face\n",
    "\n",
    "\n"
   ]
  },
  {
   "cell_type": "code",
   "execution_count": null,
   "metadata": {
    "vscode": {
     "languageId": "plaintext"
    }
   },
   "outputs": [],
   "source": [
    "# Traitement du jeu de données\n",
    "\n",
    "\n"
   ]
  },
  {
   "cell_type": "code",
   "execution_count": null,
   "metadata": {
    "vscode": {
     "languageId": "plaintext"
    }
   },
   "outputs": [],
   "source": [
    "# Entrainement du modèle\n",
    "\n"
   ]
  },
  {
   "cell_type": "code",
   "execution_count": null,
   "metadata": {
    "vscode": {
     "languageId": "plaintext"
    }
   },
   "outputs": [],
   "source": [
    "# Sauvegarde du modèle\n",
    "\n",
    "\n"
   ]
  },
  {
   "cell_type": "code",
   "execution_count": null,
   "metadata": {
    "vscode": {
     "languageId": "plaintext"
    }
   },
   "outputs": [],
   "source": [
    "# Convertion du modèle avec CCP et Ollama\n",
    "\n",
    "\n",
    "\n"
   ]
  }
 ],
 "metadata": {
  "language_info": {
   "name": "python"
  }
 },
 "nbformat": 4,
 "nbformat_minor": 2
}
